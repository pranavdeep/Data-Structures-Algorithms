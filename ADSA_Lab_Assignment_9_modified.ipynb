{
  "nbformat": 4,
  "nbformat_minor": 0,
  "metadata": {
    "kernelspec": {
      "display_name": "Python 3",
      "language": "python",
      "name": "python3"
    },
    "language_info": {
      "codemirror_mode": {
        "name": "ipython",
        "version": 3
      },
      "file_extension": ".py",
      "mimetype": "text/x-python",
      "name": "python",
      "nbconvert_exporter": "python",
      "pygments_lexer": "ipython3",
      "version": "3.8.3"
    },
    "colab": {
      "name": "ADSA_Lab_Assignment_9.ipynb",
      "provenance": [],
      "collapsed_sections": []
    }
  },
  "cells": [
    {
      "cell_type": "code",
      "metadata": {
        "id": "vsn1yLH9KF0o"
      },
      "source": [
        "graph = {\n",
        "    1 : [2,3],\n",
        "    2 : [4,6],\n",
        "    3 : [8],\n",
        "    4 : [7],\n",
        "    5 : [],\n",
        "    6 : [],\n",
        "    7 : [12,11,99],\n",
        "    8 : [5],\n",
        "    12 : [],\n",
        "    11 : [],\n",
        "    99 : []\n",
        "}\n"
      ],
      "execution_count": 1,
      "outputs": []
    },
    {
      "cell_type": "code",
      "metadata": {
        "id": "80Z11kh0KF02"
      },
      "source": [
        "if (False):\n",
        "    print(\"A\")"
      ],
      "execution_count": 2,
      "outputs": []
    },
    {
      "cell_type": "code",
      "metadata": {
        "colab": {
          "base_uri": "https://localhost:8080/"
        },
        "id": "PXnkUClCKF03",
        "outputId": "41cc23e1-fdd2-41d3-dc6e-854512f531df"
      },
      "source": [
        "visited = []\n",
        "queue = []\n",
        "def bfs(visited, graph, node):\n",
        "    visited.append(node)\n",
        "    queue.append(node)\n",
        "    print(\"Shortest Path from start node to end node is :\")\n",
        "    while queue:\n",
        "        s = queue.pop(0) \n",
        "        print (s, end = \" \") \n",
        "        for neighbour in graph[s]:\n",
        "            if neighbour not in visited:\n",
        "                visited.append(neighbour)\n",
        "                queue.append(neighbour)\n",
        "\n",
        "# Driver Code\n",
        "\n",
        "bfs(visited, graph, 1)"
      ],
      "execution_count": 4,
      "outputs": [
        {
          "output_type": "stream",
          "text": [
            "Shortest Path from start node to end node is :\n",
            "1 2 3 4 6 8 7 5 12 11 99 "
          ],
          "name": "stdout"
        }
      ]
    },
    {
      "cell_type": "code",
      "metadata": {
        "id": "vBsP_C--KF05"
      },
      "source": [
        ""
      ],
      "execution_count": null,
      "outputs": []
    }
  ]
}