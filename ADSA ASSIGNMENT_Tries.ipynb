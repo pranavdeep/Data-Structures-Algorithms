{
 "cells": [
  {
   "cell_type": "code",
   "execution_count": 6,
   "metadata": {},
   "outputs": [],
   "source": [
    "class Trie():\n",
    "\n",
    "    def __init__(self):\n",
    "        self._end = '*'\n",
    "        self.trie = dict()\n",
    "\n",
    "    def __repr__(self):\n",
    "        return repr(self.trie)\n",
    "\n",
    "    def make_trie(self, *words):\n",
    "        trie = dict()\n",
    "        for word in words:\n",
    "            temp_dict = trie\n",
    "            for letter in word:\n",
    "                temp_dict = temp_dict.setdefault(letter, {})\n",
    "            temp_dict[self._end] = self._end\n",
    "        return trie\n",
    "\n",
    "    def find_word(self, word):\n",
    "        sub_trie = self.trie\n",
    "\n",
    "        for letter in word:\n",
    "            if letter in sub_trie:\n",
    "                sub_trie = sub_trie[letter]\n",
    "            else:\n",
    "                return False\n",
    "        else:\n",
    "            if self._end in sub_trie:\n",
    "                return True\n",
    "            else:\n",
    "                return False\n",
    "\n",
    "    def add_word(self, word):\n",
    "        if self.find_word(word):\n",
    "            print(\"Word Already Exists\")\n",
    "            return self.trie\n",
    "\n",
    "        temp_trie = self.trie\n",
    "        for letter in word:\n",
    "            if letter in temp_trie:\n",
    "                temp_trie = temp_trie[letter]\n",
    "            else:\n",
    "                temp_trie = temp_trie.setdefault(letter, {})\n",
    "        temp_trie[self._end] = self._end\n",
    "        return temp_trie\n",
    "\n",
    "\n",
    "\n",
    "my_trie = Trie()\n"
   ]
  },
  {
   "cell_type": "code",
   "execution_count": 7,
   "metadata": {},
   "outputs": [
    {
     "name": "stdout",
     "output_type": "stream",
     "text": [
      "Word Already Exists\n",
      "Word Already Exists\n",
      "Word Already Exists\n",
      "Word Already Exists\n",
      "Word Already Exists\n",
      "Word Already Exists\n",
      "Word Already Exists\n",
      "Word Already Exists\n",
      "Word Already Exists\n",
      "Word Already Exists\n",
      "Word Already Exists\n",
      "Word Already Exists\n",
      "Word Already Exists\n",
      "Word Already Exists\n",
      "Word Already Exists\n",
      "Word Already Exists\n",
      "Word Already Exists\n",
      "Word Already Exists\n",
      "Word Already Exists\n",
      "Word Already Exists\n",
      "Word Already Exists\n",
      "Word Already Exists\n",
      "Word Already Exists\n",
      "Word Already Exists\n",
      "Word Already Exists\n",
      "Word Already Exists\n",
      "Word Already Exists\n",
      "Word Already Exists\n",
      "Word Already Exists\n",
      "Word Already Exists\n",
      "Word Already Exists\n",
      "Word Already Exists\n",
      "Word Already Exists\n",
      "Word Already Exists\n",
      "Word Already Exists\n",
      "Word Already Exists\n",
      "Word Already Exists\n",
      "Word Already Exists\n",
      "Word Already Exists\n",
      "Word Already Exists\n",
      "Word Already Exists\n",
      "Word Already Exists\n",
      "Word Already Exists\n",
      "Word Already Exists\n",
      "Word Already Exists\n"
     ]
    }
   ],
   "source": [
    "with open('sample.txt','r') as file: \n",
    "   \n",
    "    # reading each line     \n",
    "    for line in file: \n",
    "   \n",
    "        # reading each word         \n",
    "        for word in line.split(): \n",
    "   \n",
    "            # displaying the words            \n",
    "            #print(word)\n",
    "            my_trie.add_word(word)"
   ]
  },
  {
   "cell_type": "code",
   "execution_count": 11,
   "metadata": {},
   "outputs": [
    {
     "name": "stdout",
     "output_type": "stream",
     "text": [
      "True\n",
      "{'W': {'h': {'a': {'t': {'*': '*'}}}, 'o': {'r': {'d': {'*': '*'}}}}, 'i': {'s': {'*': '*'}, 'n': {'*': '*', 'p': {'u': {'t': {'*': '*'}}}, 's': {'t': {'r': {'u': {'c': {'t': {'i': {'o': {'n': {'s': {'*': '*'}}}}}}}}}}}}, 'C': {'o': {'m': {'p': {'u': {'t': {'e': {'r': {'*': '*'}}}}}}}, 'e': {'n': {'t': {'e': {'r': {'*': '*'}}}}}, 'h': {'a': {'r': {'l': {'e': {'s': {'*': '*'}}}}}}}, ':': {'*': '*'}, 'a': {'n': {'*': '*', 'y': {'t': {'h': {'i': {'n': {'g': {'*': '*'}}}}}}, 'd': {'*': '*'}}, '*': '*', 'd': {'v': {'a': {'n': {'c': {'e': {'d': {'*': '*'}}}}}}}, 's': {'*': '*'}}, 'e': {'l': {'e': {'c': {'t': {'r': {'o': {'n': {'i': {'c': {'*': '*'}}}}}}}}}}, 'd': {'e': {'v': {'i': {'c': {'e': {'*': '*'}}}}, 's': {'i': {'g': {'n': {'e': {'d': {'*': '*'}}}}}}, 'r': {'i': {'v': {'e': {'d': {'*': '*'}}}}}, 'c': {'i': {'m': {'a': {'l': {'*': '*'}}}}}}, 'o': {'*': '*'}, 'i': {'g': {'i': {'t': {'s': {'.': {'*': '*'}}}}}}, 'a': {'t': {'a': {'*': '*'}}}}, 't': {'h': {'a': {'t': {'*': '*'}}, 'e': {'*': '*', 's': {'e': {'*': '*'}}}, 'i': {'s': {'*': '*'}}, 'r': {'o': {'u': {'g': {'h': {'*': '*'}}}}}}, 'o': {'*': '*'}, 'e': {'r': {'m': {'*': '*'}}}, 'a': {'k': {'e': {'s': {'*': '*'}}}}}, 'w': {'o': {'r': {'k': {'*': '*'}}}, 'i': {'t': {'h': {'*': '*', 'o': {'u': {'t': {'*': '*'}}}}}}, 'a': {'s': {'*': '*'}}}, 'I': {'n': {'f': {'o': {'r': {'m': {'a': {'t': {'i': {'o': {'n': {'.': {'*': '*'}}}}}}}}}}, 't': {'e': {'r': {'n': {'a': {'l': {'*': '*'}}}}}}}, 't': {'*': '*'}}, 'T': {'h': {'e': {'*': '*'}}}, 'c': {'o': {'m': {'p': {'u': {'t': {'e': {'r': {'*': '*', '.': {'*': '*'}}}}}}}, 'n': {'t': {'r': {'o': {'l': {'*': '*'}}}}}}, 'a': {'l': {'c': {'u': {'l': {'a': {'t': {'e': {'*': '*'}, 'i': {'o': {'n': {'s': {'.': {'*': '*'}}}}}}}}}}, 'l': {'e': {'d': {'*': '*'}}}}, 'n': {'*': '*'}, 'r': {'d': {'s': {'.': {'*': '*'}}}}}}, 'f': {'r': {'o': {'m': {'*': '*'}}}, 'o': {'r': {'m': {'*': '*'}, '*': '*'}}, 'u': {'t': {'u': {'r': {'e': {'*': '*'}}}}}}, 'L': {'a': {'t': {'i': {'n': {'*': '*'}}}}}, '‘': {'c': {'o': {'m': {'p': {'u': {'t': {'a': {'r': {'e': {'’': {',': {'*': '*'}}}}}}}}}}}, 'C': {'o': {'m': {'p': {'u': {'t': {'e': {'r': {'’': {'*': '*'}}}}}}}}}}, 'm': {'e': {'a': {'n': {'s': {'*': '*'}}}, 'm': {'o': {'r': {'y': {'.': {'*': '*'}, '*': '*'}}}}, 'c': {'h': {'a': {'n': {'i': {'c': {'a': {'l': {'*': '*'}}}}}}}}}, 'a': {'c': {'h': {'i': {'n': {'e': {'.': {'*': '*'}}}}}}}}, 'o': {'r': {'*': '*'}, 'f': {'*': '*'}, 'u': {'t': {'p': {'u': {'t': {'*': '*'}}}}}}, 'p': {'r': {'o': {'g': {'r': {'a': {'m': {'m': {'a': {'b': {'l': {'e': {'*': '*'}}}}}, ')': {'*': '*'}}}}}, 'c': {'e': {'s': {'s': {'e': {'s': {'*': '*'}}, '*': '*'}}}}}}, 'l': {'u': {'s': {'*': '*'}}}, 'u': {'n': {'c': {'h': {'*': '*'}}}}}, 'n': {'o': {'t': {'*': '*'}, 'n': {'-': {'n': {'u': {'m': {'e': {'r': {'i': {'c': {'a': {'l': {'*': '*'}}}}}}}}}}}}, 'u': {'m': {'b': {'e': {'r': {'s': {'*': '*'}}}}, 'e': {'r': {'i': {'c': {'a': {'l': {'*': '*'}}}}}}}}}, 'P': {'r': {'o': {'g': {'r': {'a': {'m': {'.': {'*': '*'}}}}}, 'c': {'e': {'s': {'s': {'o': {'r': {'*': '*'}}}}}}}}}, 'r': {'e': {'p': {'r': {'e': {'s': {'e': {'n': {'t': {'s': {'*': '*'}}}}}}}}, 'f': {'e': {'r': {'s': {'*': '*'}}}}, 'a': {'d': {'-': {'o': {'n': {'l': {'y': {'*': '*'}}}}}}}, 's': {'u': {'l': {'t': {'*': '*'}}}}}, 'a': {'w': {'*': '*'}}}, 's': {'t': {'r': {'i': {'n': {'g': {'*': '*'}}}}}, 'e': {'t': {'*': '*'}}, 'a': {'v': {'e': {'s': {'*': '*'}}}}}, 'b': {'i': {'n': {'a': {'r': {'y': {'*': '*'}}}}}, 'y': {'*': '*'}, 'o': {'t': {'h': {'*': '*'}}}}, 'u': {'s': {'u': {'a': {'l': {'l': {'y': {'*': '*'}}}}}, 'e': {'s': {'*': '*'}, 'r': {'*': '*'}, '.': {'*': '*'}}}, 'n': {'d': {'e': {'r': {'*': '*'}}}}}, 'U': {'n': {'i': {'t': {'*': '*'}}}}, 'B': {'a': {'b': {'b': {'a': {'g': {'e': {'*': '*'}}}}}}}, '“': {'G': {'r': {'a': {'n': {'d': {'*': '*'}}}}}}, 'F': {'a': {'t': {'h': {'e': {'r': {'”': {'*': '*'}}}}}}, 'i': {'r': {'s': {'t': {'*': '*'}}}}}, 'A': {'n': {'a': {'l': {'y': {'t': {'i': {'c': {'a': {'l': {'*': '*'}}}}}}}}}}, 'E': {'n': {'g': {'i': {'n': {'e': {'.': {'*': '*'}}}}}}}, '(': {'c': {'a': {'l': {'l': {'e': {'d': {'*': '*'}}}}}}, 'o': {'u': {'t': {'p': {'u': {'t': {')': {'*': '*'}}}}}}}, 'a': {'r': {'i': {'t': {'h': {'m': {'e': {'t': {'i': {'c': {'*': '*'}}}}}}}}}}}, 'g': {'i': {'v': {'e': {'s': {'*': '*'}}}}}, 'l': {'o': {'g': {'i': {'c': {'a': {'l': {')': {'*': '*'}}}}}}}}}\n"
     ]
    }
   ],
   "source": [
    "print(my_trie.find_word(\"Analytical\"))\n",
    "print(my_trie)"
   ]
  },
  {
   "cell_type": "code",
   "execution_count": null,
   "metadata": {},
   "outputs": [],
   "source": []
  }
 ],
 "metadata": {
  "kernelspec": {
   "display_name": "Python 3",
   "language": "python",
   "name": "python3"
  },
  "language_info": {
   "codemirror_mode": {
    "name": "ipython",
    "version": 3
   },
   "file_extension": ".py",
   "mimetype": "text/x-python",
   "name": "python",
   "nbconvert_exporter": "python",
   "pygments_lexer": "ipython3",
   "version": "3.8.3"
  }
 },
 "nbformat": 4,
 "nbformat_minor": 4
}
