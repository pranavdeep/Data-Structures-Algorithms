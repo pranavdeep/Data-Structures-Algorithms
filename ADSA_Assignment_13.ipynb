{
 "cells": [
  {
   "cell_type": "code",
   "execution_count": 2,
   "metadata": {},
   "outputs": [],
   "source": [
    "def lcs(s1, s2):\n",
    "    rows = len(s1) + 1\n",
    "    cols = len(s2) + 1\n",
    "    array = [[0 for i in range(cols)] for j in range(rows)]\n",
    "    for i in range(1, rows):\n",
    "        for j in range(1, cols):\n",
    "            if s1[i - 1] == s2[j - 1]:\n",
    "                array[i][j] = array[i - 1][j - 1] + 1\n",
    "            else:\n",
    "                array[i][j] = max(array[i - 1][j], array[i][j - 1])\n",
    "    sub_sequence = []\n",
    "    i = rows - 1\n",
    "    j = cols - 1\n",
    "    while i > 0 and j > 0:\n",
    "        if array[i][j] != array[i - 1][j]:\n",
    "            sub_sequence.append(s1[i - 1])\n",
    "            i -= 1\n",
    "            j -= 1\n",
    "        else:\n",
    "            i -= 1\n",
    "    return array[rows - 1][cols - 1], ''.join(sub_sequence[::-1])"
   ]
  },
  {
   "cell_type": "code",
   "execution_count": 4,
   "metadata": {},
   "outputs": [
    {
     "name": "stdout",
     "output_type": "stream",
     "text": [
      "enter 1 : ewrwerwerrwpoip\n",
      "enter 2 : xcvxcvcx,mn\n",
      "0 \n"
     ]
    }
   ],
   "source": [
    "string1 = input(\"enter 1 : \")\n",
    "string2 = input(\"enter 2 : \")\n",
    "LCS = lcs(string1,string2)\n",
    "print(LCS[0], LCS[1])"
   ]
  },
  {
   "cell_type": "code",
   "execution_count": null,
   "metadata": {},
   "outputs": [],
   "source": []
  }
 ],
 "metadata": {
  "kernelspec": {
   "display_name": "Python 3",
   "language": "python",
   "name": "python3"
  },
  "language_info": {
   "codemirror_mode": {
    "name": "ipython",
    "version": 3
   },
   "file_extension": ".py",
   "mimetype": "text/x-python",
   "name": "python",
   "nbconvert_exporter": "python",
   "pygments_lexer": "ipython3",
   "version": "3.8.3"
  }
 },
 "nbformat": 4,
 "nbformat_minor": 4
}
