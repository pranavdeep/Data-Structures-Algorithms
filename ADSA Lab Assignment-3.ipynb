{
 "cells": [
  {
   "cell_type": "markdown",
   "metadata": {},
   "source": [
    "# Program to Insert, Delete an element in a Binary Search Tree"
   ]
  },
  {
   "cell_type": "code",
   "execution_count": 33,
   "metadata": {},
   "outputs": [],
   "source": [
    "class Node: \n",
    "    # Constructor to create a new node \n",
    "    def __init__(self, key): \n",
    "        self.key = key  \n",
    "        self.left = None\n",
    "        self.right = None\n",
    "  \n",
    "  \n",
    "#Inorder of a BST gives its sorted version \n",
    "def inorder(root): \n",
    "    if root is not None: \n",
    "        inorder(root.left) \n",
    "        print (root.key)\n",
    "        inorder(root.right) \n",
    "  \n",
    " \n",
    "def insert( node, key): \n",
    "  \n",
    "    # If the tree is empty, return a new node \n",
    "    if node is None: \n",
    "        return Node(key) \n",
    "  \n",
    "    # Otherwise recursion \n",
    "    if key < node.key: #If key < node, then call insert on left sub tree\n",
    "        node.left = insert(node.left, key) \n",
    "    else: #Else, right sub tree\n",
    "        node.right = insert(node.right, key) \n",
    "  \n",
    "    \n",
    "    return node \n",
    "  \n",
    "#Returns the minimum value node of the BST  \n",
    "def minValueNode( node): \n",
    "    current = node \n",
    "  \n",
    "     \n",
    "    while(current.left is not None): \n",
    "        current = current.left  \n",
    "  \n",
    "    return current  \n",
    "  \n",
    "\n",
    "def deleteNode(root, key): \n",
    "  \n",
    "    # Base Case \n",
    "    if root is None: \n",
    "        return root  \n",
    "  \n",
    "    \n",
    "    if key < root.key: \n",
    "        root.left = deleteNode(root.left, key) \n",
    "  \n",
    "    \n",
    "    elif(key > root.key): \n",
    "        root.right = deleteNode(root.right, key) \n",
    "  \n",
    "  \n",
    "    else: \n",
    "          \n",
    "        # Node with only one child or no child \n",
    "        if root.left is None : \n",
    "            temp = root.right  \n",
    "            root = None \n",
    "            return temp  \n",
    "              \n",
    "        elif root.right is None : \n",
    "            temp = root.left  \n",
    "            root = None\n",
    "            return temp \n",
    "  \n",
    "        # Node with two children: Get the inorder successor \n",
    "        # (smallest in the right subtree) \n",
    "        temp = minValueNode(root.right) \n",
    "  \n",
    "        # Copy the inorder successor's content to this node \n",
    "        root.key = temp.key \n",
    "  \n",
    "        # Delete the inorder successor \n",
    "        root.right = deleteNode(root.right , temp.key) \n",
    "  \n",
    "  \n",
    "    return root  "
   ]
  },
  {
   "cell_type": "code",
   "execution_count": null,
   "metadata": {},
   "outputs": [],
   "source": [
    "list1 = [] \n",
    "  \n",
    "list1 = [int(item) for item in input(\"Enter the list items : \").split()]  \n",
    "print(list1)\n",
    "\n",
    "r = Node(list1[0])\n",
    "\n",
    "for i in range(1,len(list1)):\n",
    "    insert(r,list1[i])\n",
    "\n",
    "print(\"BST's sorted order is: \")\n",
    "inorder(r)\n",
    "\n"
   ]
  },
  {
   "cell_type": "markdown",
   "metadata": {},
   "source": [
    "# Driver Code - For Testing"
   ]
  },
  {
   "cell_type": "code",
   "execution_count": 51,
   "metadata": {},
   "outputs": [
    {
     "name": "stdout",
     "output_type": "stream",
     "text": [
      "Enter 1 for insertion, 2 for deletion\n",
      "2\n",
      "Enter element to delete from the list\n",
      "[4, 7, 8, 5, 2, 6, 9, 3, 11]\n",
      "8\n",
      "Sorted order of the BST = \n",
      "2\n",
      "3\n",
      "4\n",
      "6\n",
      "7\n",
      "9\n",
      "11\n",
      "78\n",
      "Enter 1 for insertion, 2 for deletion\n"
     ]
    },
    {
     "ename": "KeyboardInterrupt",
     "evalue": "Interrupted by user",
     "output_type": "error",
     "traceback": [
      "\u001b[0;31m---------------------------------------------------------------------------\u001b[0m",
      "\u001b[0;31mKeyboardInterrupt\u001b[0m                         Traceback (most recent call last)",
      "\u001b[0;32m<ipython-input-51-ef4413042e12>\u001b[0m in \u001b[0;36m<module>\u001b[0;34m\u001b[0m\n\u001b[1;32m      1\u001b[0m \u001b[0;32mwhile\u001b[0m\u001b[0;34m(\u001b[0m\u001b[0;32mTrue\u001b[0m\u001b[0;34m)\u001b[0m\u001b[0;34m:\u001b[0m\u001b[0;34m\u001b[0m\u001b[0;34m\u001b[0m\u001b[0m\n\u001b[1;32m      2\u001b[0m     \u001b[0mprint\u001b[0m\u001b[0;34m(\u001b[0m\u001b[0;34m\"Enter 1 for insertion, 2 for deletion\"\u001b[0m\u001b[0;34m)\u001b[0m\u001b[0;34m\u001b[0m\u001b[0;34m\u001b[0m\u001b[0m\n\u001b[0;32m----> 3\u001b[0;31m     \u001b[0;32mif\u001b[0m\u001b[0;34m(\u001b[0m\u001b[0mint\u001b[0m\u001b[0;34m(\u001b[0m\u001b[0minput\u001b[0m\u001b[0;34m(\u001b[0m\u001b[0;34m)\u001b[0m\u001b[0;34m)\u001b[0m\u001b[0;34m==\u001b[0m\u001b[0;36m1\u001b[0m\u001b[0;34m)\u001b[0m\u001b[0;34m:\u001b[0m\u001b[0;34m\u001b[0m\u001b[0;34m\u001b[0m\u001b[0m\n\u001b[0m\u001b[1;32m      4\u001b[0m         \u001b[0mprint\u001b[0m\u001b[0;34m(\u001b[0m\u001b[0;34m\"Enter element to insert\"\u001b[0m\u001b[0;34m)\u001b[0m\u001b[0;34m\u001b[0m\u001b[0;34m\u001b[0m\u001b[0m\n\u001b[1;32m      5\u001b[0m         \u001b[0mkey\u001b[0m \u001b[0;34m=\u001b[0m \u001b[0mint\u001b[0m\u001b[0;34m(\u001b[0m\u001b[0minput\u001b[0m\u001b[0;34m(\u001b[0m\u001b[0;34m)\u001b[0m\u001b[0;34m)\u001b[0m\u001b[0;34m\u001b[0m\u001b[0;34m\u001b[0m\u001b[0m\n",
      "\u001b[0;32m~/anaconda3/lib/python3.8/site-packages/ipykernel/kernelbase.py\u001b[0m in \u001b[0;36mraw_input\u001b[0;34m(self, prompt)\u001b[0m\n\u001b[1;32m    858\u001b[0m                 \u001b[0;34m\"raw_input was called, but this frontend does not support input requests.\"\u001b[0m\u001b[0;34m\u001b[0m\u001b[0;34m\u001b[0m\u001b[0m\n\u001b[1;32m    859\u001b[0m             )\n\u001b[0;32m--> 860\u001b[0;31m         return self._input_request(str(prompt),\n\u001b[0m\u001b[1;32m    861\u001b[0m             \u001b[0mself\u001b[0m\u001b[0;34m.\u001b[0m\u001b[0m_parent_ident\u001b[0m\u001b[0;34m,\u001b[0m\u001b[0;34m\u001b[0m\u001b[0;34m\u001b[0m\u001b[0m\n\u001b[1;32m    862\u001b[0m             \u001b[0mself\u001b[0m\u001b[0;34m.\u001b[0m\u001b[0m_parent_header\u001b[0m\u001b[0;34m,\u001b[0m\u001b[0;34m\u001b[0m\u001b[0;34m\u001b[0m\u001b[0m\n",
      "\u001b[0;32m~/anaconda3/lib/python3.8/site-packages/ipykernel/kernelbase.py\u001b[0m in \u001b[0;36m_input_request\u001b[0;34m(self, prompt, ident, parent, password)\u001b[0m\n\u001b[1;32m    902\u001b[0m             \u001b[0;32mexcept\u001b[0m \u001b[0mKeyboardInterrupt\u001b[0m\u001b[0;34m:\u001b[0m\u001b[0;34m\u001b[0m\u001b[0;34m\u001b[0m\u001b[0m\n\u001b[1;32m    903\u001b[0m                 \u001b[0;31m# re-raise KeyboardInterrupt, to truncate traceback\u001b[0m\u001b[0;34m\u001b[0m\u001b[0;34m\u001b[0m\u001b[0;34m\u001b[0m\u001b[0m\n\u001b[0;32m--> 904\u001b[0;31m                 \u001b[0;32mraise\u001b[0m \u001b[0mKeyboardInterrupt\u001b[0m\u001b[0;34m(\u001b[0m\u001b[0;34m\"Interrupted by user\"\u001b[0m\u001b[0;34m)\u001b[0m \u001b[0;32mfrom\u001b[0m \u001b[0;32mNone\u001b[0m\u001b[0;34m\u001b[0m\u001b[0;34m\u001b[0m\u001b[0m\n\u001b[0m\u001b[1;32m    905\u001b[0m             \u001b[0;32mexcept\u001b[0m \u001b[0mException\u001b[0m \u001b[0;32mas\u001b[0m \u001b[0me\u001b[0m\u001b[0;34m:\u001b[0m\u001b[0;34m\u001b[0m\u001b[0;34m\u001b[0m\u001b[0m\n\u001b[1;32m    906\u001b[0m                 \u001b[0mself\u001b[0m\u001b[0;34m.\u001b[0m\u001b[0mlog\u001b[0m\u001b[0;34m.\u001b[0m\u001b[0mwarning\u001b[0m\u001b[0;34m(\u001b[0m\u001b[0;34m\"Invalid Message:\"\u001b[0m\u001b[0;34m,\u001b[0m \u001b[0mexc_info\u001b[0m\u001b[0;34m=\u001b[0m\u001b[0;32mTrue\u001b[0m\u001b[0;34m)\u001b[0m\u001b[0;34m\u001b[0m\u001b[0;34m\u001b[0m\u001b[0m\n",
      "\u001b[0;31mKeyboardInterrupt\u001b[0m: Interrupted by user"
     ]
    }
   ],
   "source": [
    "while(True):\n",
    "    print(\"Enter 1 for insertion, 2 for deletion\")\n",
    "    if(int(input())==1):\n",
    "        print(\"Enter element to insert\")\n",
    "        key = int(input())\n",
    "        insert(r,key)\n",
    "        print(\"Sorted order of the BST = \")\n",
    "        inorder(list1)\n",
    "    else:\n",
    "        print(\"Enter element to delete from the list\")\n",
    "        print(list1)\n",
    "        key = int(input())\n",
    "        deleteNode(r,key)\n",
    "        print(\"Sorted order of the BST = \")\n",
    "        inorder(r)\n",
    "    "
   ]
  },
  {
   "cell_type": "code",
   "execution_count": null,
   "metadata": {},
   "outputs": [],
   "source": []
  },
  {
   "cell_type": "code",
   "execution_count": null,
   "metadata": {},
   "outputs": [],
   "source": []
  }
 ],
 "metadata": {
  "kernelspec": {
   "display_name": "Python 3",
   "language": "python",
   "name": "python3"
  },
  "language_info": {
   "codemirror_mode": {
    "name": "ipython",
    "version": 3
   },
   "file_extension": ".py",
   "mimetype": "text/x-python",
   "name": "python",
   "nbconvert_exporter": "python",
   "pygments_lexer": "ipython3",
   "version": "3.8.3"
  }
 },
 "nbformat": 4,
 "nbformat_minor": 4
}
