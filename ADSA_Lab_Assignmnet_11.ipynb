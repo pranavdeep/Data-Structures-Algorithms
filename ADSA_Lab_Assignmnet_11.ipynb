{
 "cells": [
  {
   "cell_type": "code",
   "execution_count": 6,
   "metadata": {},
   "outputs": [
    {
     "name": "stdout",
     "output_type": "stream",
     "text": [
      "([None, 0, 3, 0, 1], [0, 6, 4, 7, 2])\n"
     ]
    }
   ],
   "source": [
    "import heapq as hq\n",
    "import math\n",
    "\n",
    "def dijkstra(G, s):\n",
    "    n = len(G)\n",
    "    visited = [False]*n\n",
    "    weights = [math.inf]*n\n",
    "    path = [None]*n\n",
    "    queue = []\n",
    "    weights[s] = 0\n",
    "    hq.heappush(queue, (0, s))\n",
    "    while len(queue) > 0:\n",
    "        g, u = hq.heappop(queue)\n",
    "        visited[u] = True\n",
    "        for v, w in G[u]:\n",
    "            if not visited[v]:\n",
    "                f = g + w\n",
    "                if f < weights[v]:\n",
    "                    weights[v] = f\n",
    "                    path[v] = u\n",
    "                    hq.heappush(queue, (f, v))\n",
    "    return path, weights\n",
    "\n",
    "G = [[(1, 6), (3, 7)],\n",
    "     [(2, 5), (3, 8), (4, -4)],\n",
    "     [(1, -2), (4, 7)],\n",
    "     [(2, -3), (4, 9)],\n",
    "     [(0, 2)]]\n",
    "\n",
    "print(dijkstra(G, 0))"
   ]
  },
  {
   "cell_type": "code",
   "execution_count": null,
   "metadata": {},
   "outputs": [],
   "source": []
  }
 ],
 "metadata": {
  "kernelspec": {
   "display_name": "Python 3",
   "language": "python",
   "name": "python3"
  },
  "language_info": {
   "codemirror_mode": {
    "name": "ipython",
    "version": 3
   },
   "file_extension": ".py",
   "mimetype": "text/x-python",
   "name": "python",
   "nbconvert_exporter": "python",
   "pygments_lexer": "ipython3",
   "version": "3.8.3"
  }
 },
 "nbformat": 4,
 "nbformat_minor": 4
}
