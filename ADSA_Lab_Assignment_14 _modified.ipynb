{
  "nbformat": 4,
  "nbformat_minor": 0,
  "metadata": {
    "kernelspec": {
      "display_name": "Python 3",
      "language": "python",
      "name": "python3"
    },
    "language_info": {
      "codemirror_mode": {
        "name": "ipython",
        "version": 3
      },
      "file_extension": ".py",
      "mimetype": "text/x-python",
      "name": "python",
      "nbconvert_exporter": "python",
      "pygments_lexer": "ipython3",
      "version": "3.8.3"
    },
    "colab": {
      "name": "ADSA_Lab_Assignment_14.ipynb",
      "provenance": []
    }
  },
  "cells": [
    {
      "cell_type": "code",
      "metadata": {
        "id": "1mIciLathONd"
      },
      "source": [
        "list1 = [[\"Turtle\",6,20],[\"Bulb\",2,8],[\"WaterMelon\",4,14],[\"Burger\",3,13],[\"Bus\",11,35]]\n",
        "W = 10 #Capacity"
      ],
      "execution_count": 7,
      "outputs": []
    },
    {
      "cell_type": "code",
      "metadata": {
        "id": "kFhHC_hrhON4"
      },
      "source": [
        "weights = []\n",
        "names = []\n",
        "values = []\n",
        "weights.append(None)\n",
        "names.append(None)\n",
        "values.append(None)\n",
        "for i in range(1,len(list1)+1):\n",
        "    weights.append(list1[i-1][1]) #Weights\n",
        "    names.append(list1[i-1][0]) #Names\n",
        "    values.append(list1[i-1][2]) #Values\n",
        "    "
      ],
      "execution_count": 8,
      "outputs": []
    },
    {
      "cell_type": "code",
      "metadata": {
        "id": "FVdT12ZihON6"
      },
      "source": [
        "def unbounded_knapsack(W,n,weights,values,names):\n",
        "    k = [0]*(W+1)\n",
        "    items_2 = [None]*(W+1)\n",
        "    \n",
        "    items_2.append(None)\n",
        "    for x in range(1,W+1):\n",
        "        for i in range(1,n+1):\n",
        "            if(weights[i]<=x):\n",
        "                temp = max(k[x],k[x-weights[i]]+values[i])\n",
        "                if (k[x] != temp):\n",
        "                    k[x] = temp\n",
        "                    items_2[x] = str(items_2[x-weights[i]]) + \" \" + names[i]\n",
        "    #items_2.pop(0)\n",
        "    items_2[W] = items_2[W].lstrip(\"None \")\n",
        "    return items_2[W]\n",
        "                \n",
        "                \n",
        "                \n",
        "            \n",
        "    \n",
        "    "
      ],
      "execution_count": 9,
      "outputs": []
    },
    {
      "cell_type": "code",
      "metadata": {
        "colab": {
          "base_uri": "https://localhost:8080/"
        },
        "id": "deLaUaj4hON7",
        "outputId": "19164b5a-00f6-449a-a649-616c7b792aa2"
      },
      "source": [
        "for i in range(2,21):\n",
        "    print(\"List for capacity\",i, \" = \" , unbounded_knapsack(i,len(list1),weights,values,names))"
      ],
      "execution_count": 10,
      "outputs": [
        {
          "output_type": "stream",
          "text": [
            "List for capacity 2  =  Bulb\n",
            "List for capacity 3  =  Burger\n",
            "List for capacity 4  =  Bulb Bulb\n",
            "List for capacity 5  =  Burger Bulb\n",
            "List for capacity 6  =  Burger Burger\n",
            "List for capacity 7  =  Burger Bulb Bulb\n",
            "List for capacity 8  =  Burger Burger Bulb\n",
            "List for capacity 9  =  Burger Burger Burger\n",
            "List for capacity 10  =  Burger Burger Bulb Bulb\n",
            "List for capacity 11  =  Burger Burger Burger Bulb\n",
            "List for capacity 12  =  Burger Burger Burger Burger\n",
            "List for capacity 13  =  Burger Burger Burger Bulb Bulb\n",
            "List for capacity 14  =  Burger Burger Burger Burger Bulb\n",
            "List for capacity 15  =  Burger Burger Burger Burger Burger\n",
            "List for capacity 16  =  Burger Burger Burger Burger Bulb Bulb\n",
            "List for capacity 17  =  Burger Burger Burger Burger Burger Bulb\n",
            "List for capacity 18  =  Burger Burger Burger Burger Burger Burger\n",
            "List for capacity 19  =  Burger Burger Burger Burger Burger Bulb Bulb\n",
            "List for capacity 20  =  Burger Burger Burger Burger Burger Burger Bulb\n"
          ],
          "name": "stdout"
        }
      ]
    },
    {
      "cell_type": "code",
      "metadata": {
        "id": "spmEu29ThON-"
      },
      "source": [
        ""
      ],
      "execution_count": 10,
      "outputs": []
    }
  ]
}