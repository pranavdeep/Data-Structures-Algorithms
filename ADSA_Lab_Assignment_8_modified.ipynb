{
  "nbformat": 4,
  "nbformat_minor": 0,
  "metadata": {
    "kernelspec": {
      "display_name": "Python 3",
      "language": "python",
      "name": "python3"
    },
    "language_info": {
      "codemirror_mode": {
        "name": "ipython",
        "version": 3
      },
      "file_extension": ".py",
      "mimetype": "text/x-python",
      "name": "python",
      "nbconvert_exporter": "python",
      "pygments_lexer": "ipython3",
      "version": "3.8.3"
    },
    "colab": {
      "name": "ADSA_Lab_Assignment_8.ipynb",
      "provenance": [],
      "collapsed_sections": []
    }
  },
  "cells": [
    {
      "cell_type": "code",
      "metadata": {
        "id": "cwLo_ZTNAc_w"
      },
      "source": [
        "graph = {\n",
        "    'A' : ['B','C'],\n",
        "    'B' : ['D', 'E'],\n",
        "    'C' : ['F'],\n",
        "    'D' : [],\n",
        "    'E' : ['F'],\n",
        "    'F' : []\n",
        "}\n",
        "\n",
        "visited = set() # Set to keep track of visited nodes.\n",
        "visited_2 = []\n",
        "#search_node_2\n",
        "\n"
      ],
      "execution_count": 3,
      "outputs": []
    },
    {
      "cell_type": "markdown",
      "metadata": {
        "id": "phVpaEimAc_3"
      },
      "source": [
        "# Depth First Traversal Function"
      ]
    },
    {
      "cell_type": "code",
      "metadata": {
        "id": "7WyQw-QRAc_3"
      },
      "source": [
        "def dfs(visited, graph, node):\n",
        "    if node not in visited:\n",
        "        visited_2.append(node)\n",
        "        print (node)\n",
        "        visited.add(node)\n",
        "        for neighbour in graph[node]:\n",
        "            dfs(visited, graph, neighbour)"
      ],
      "execution_count": 4,
      "outputs": []
    },
    {
      "cell_type": "code",
      "metadata": {
        "colab": {
          "base_uri": "https://localhost:8080/"
        },
        "id": "6qIZHsgsAc_3",
        "outputId": "efb5ae08-f7b5-4c9a-cd56-66d83e2d23b3"
      },
      "source": [
        "\n",
        "dfs(visited,graph,'A')\n"
      ],
      "execution_count": 5,
      "outputs": [
        {
          "output_type": "stream",
          "text": [
            "A\n",
            "B\n",
            "D\n",
            "E\n",
            "F\n",
            "C\n"
          ],
          "name": "stdout"
        }
      ]
    },
    {
      "cell_type": "markdown",
      "metadata": {
        "id": "1kDNzj4DAc_4"
      },
      "source": [
        "# Searching Function"
      ]
    },
    {
      "cell_type": "code",
      "metadata": {
        "id": "-sA-qJ_kAc_4"
      },
      "source": [
        "def search(search_node,visited_2):\n",
        "    if search_node in visited_2:\n",
        "        print(\"True \"+ search_node+\" is in the above graph\")\n",
        "    else:\n",
        "        print(\"False \"+ search_node+\" is not in the above graph\")\n",
        "\n"
      ],
      "execution_count": 6,
      "outputs": []
    },
    {
      "cell_type": "code",
      "metadata": {
        "colab": {
          "base_uri": "https://localhost:8080/"
        },
        "id": "hO9kGS4bAc_5",
        "outputId": "4b96f311-b785-4328-f123-569ce033a704"
      },
      "source": [
        "search('L',visited_2)"
      ],
      "execution_count": 8,
      "outputs": [
        {
          "output_type": "stream",
          "text": [
            "False L is not in the above graph\n"
          ],
          "name": "stdout"
        }
      ]
    },
    {
      "cell_type": "code",
      "metadata": {
        "colab": {
          "base_uri": "https://localhost:8080/"
        },
        "id": "dzroPAZeAc_5",
        "outputId": "3be16a86-03af-4e03-89a2-844a62ac844b"
      },
      "source": [
        "search('C',visited_2)"
      ],
      "execution_count": 9,
      "outputs": [
        {
          "output_type": "stream",
          "text": [
            "True C is in the above graph\n"
          ],
          "name": "stdout"
        }
      ]
    },
    {
      "cell_type": "code",
      "metadata": {
        "id": "XPG0yv1uAz1x"
      },
      "source": [
        ""
      ],
      "execution_count": null,
      "outputs": []
    }
  ]
}