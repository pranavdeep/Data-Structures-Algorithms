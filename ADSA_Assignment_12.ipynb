{
 "cells": [
  {
   "cell_type": "code",
   "execution_count": 1,
   "metadata": {},
   "outputs": [],
   "source": [
    "def printPath(path, v, u):\n",
    " \n",
    "    if path[v][u] == v:\n",
    "        return\n",
    " \n",
    "    printPath(path, v, path[v][u])\n",
    "    print(path[v][u], end=' ')\n",
    " \n"
   ]
  },
  {
   "cell_type": "code",
   "execution_count": 2,
   "metadata": {},
   "outputs": [],
   "source": [
    "def printSolution(path, N):\n",
    " \n",
    "    for v in range(N):\n",
    "        for u in range(N):\n",
    "            if u != v and path[v][u] != -1:\n",
    "                print(f\"Shortest Path from {v} -> {u} is ({v}\", end=' ')\n",
    "                printPath(path, v, u)\n",
    "                print(f\"{u})\")\n",
    " \n",
    " "
   ]
  },
  {
   "cell_type": "code",
   "execution_count": 13,
   "metadata": {},
   "outputs": [],
   "source": [
    "def all_pairs_shortest_path(adjMatrix, N):\n",
    "    cost = adjMatrix.copy()\n",
    "    path = [[None for x in range(N)] for y in range(N)]\n",
    " \n",
    "    for v in range(N):\n",
    "        for u in range(N):\n",
    "            if v == u:\n",
    "                path[v][u] = 0\n",
    "            elif cost[v][u] != float('inf'):\n",
    "                path[v][u] = v\n",
    "            else:\n",
    "                path[v][u] = -1\n",
    " \n",
    "    \n",
    "    for k in range(N):\n",
    "        for v in range(N):\n",
    "            for u in range(N):\n",
    "                if cost[v][k] != float('inf') and cost[k][u] != float('inf') \\\n",
    "                        and (cost[v][k] + cost[k][u] < cost[v][u]):\n",
    "                    cost[v][u] = cost[v][k] + cost[k][u]\n",
    "                    path[v][u] = path[k][u]\n",
    "\n",
    "            if cost[v][v] < 0:\n",
    "                print(\"Negative Weight Cycle Found\")\n",
    "                return\n",
    " \n",
    "    \n",
    "    printSolution(path, N)\n"
   ]
  },
  {
   "cell_type": "code",
   "execution_count": 14,
   "metadata": {},
   "outputs": [
    {
     "name": "stdout",
     "output_type": "stream",
     "text": [
      "Shortest Path from 0 -> 1 is (0 2 3 1)\n",
      "Shortest Path from 0 -> 2 is (0 2)\n",
      "Shortest Path from 0 -> 3 is (0 2 3)\n",
      "Shortest Path from 1 -> 0 is (1 0)\n",
      "Shortest Path from 1 -> 2 is (1 0 2)\n",
      "Shortest Path from 1 -> 3 is (1 0 2 3)\n",
      "Shortest Path from 2 -> 0 is (2 3 1 0)\n",
      "Shortest Path from 2 -> 1 is (2 3 1)\n",
      "Shortest Path from 2 -> 3 is (2 3)\n",
      "Shortest Path from 3 -> 0 is (3 1 0)\n",
      "Shortest Path from 3 -> 1 is (3 1)\n",
      "Shortest Path from 3 -> 2 is (3 1 0 2)\n"
     ]
    }
   ],
   "source": [
    "\n",
    "N = 4\n",
    "M = float('inf') #Infinity distance\n",
    "adjMatrix = [[0, M, -2, M],[4, 0, 3, M], [M, M, 0, 2],[M, -1, M, 0]] \n",
    "all_pairs_shortest_path(adjMatrix, N)"
   ]
  },
  {
   "cell_type": "code",
   "execution_count": null,
   "metadata": {},
   "outputs": [],
   "source": []
  }
 ],
 "metadata": {
  "kernelspec": {
   "display_name": "Python 3",
   "language": "python",
   "name": "python3"
  },
  "language_info": {
   "codemirror_mode": {
    "name": "ipython",
    "version": 3
   },
   "file_extension": ".py",
   "mimetype": "text/x-python",
   "name": "python",
   "nbconvert_exporter": "python",
   "pygments_lexer": "ipython3",
   "version": "3.8.3"
  }
 },
 "nbformat": 4,
 "nbformat_minor": 4
}
