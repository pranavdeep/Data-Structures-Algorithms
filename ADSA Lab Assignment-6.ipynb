{
 "cells": [
  {
   "cell_type": "markdown",
   "metadata": {},
   "source": [
    "# Hash Table with hash function = n%23\n",
    "Implementing using Chaining Technique"
   ]
  },
  {
   "cell_type": "code",
   "execution_count": 13,
   "metadata": {},
   "outputs": [],
   "source": [
    "HashTable = [[] for _ in range(23)]  #Given n mod 23"
   ]
  },
  {
   "cell_type": "code",
   "execution_count": 50,
   "metadata": {},
   "outputs": [],
   "source": [
    "def insert(Hashtable, key_value): \n",
    "    hash_key = key_value % 23 \n",
    "    Hashtable[hash_key].append(key_value)"
   ]
  },
  {
   "cell_type": "code",
   "execution_count": 15,
   "metadata": {},
   "outputs": [],
   "source": [
    "def display_hash(hashTable):     \n",
    "    for i in range(len(hashTable)): \n",
    "        print(i, end = \" \")  \n",
    "        for j in hashTable[i]: \n",
    "            print(\"-->\", end = \" \") \n",
    "            print(j, end = \" \")\n",
    "        print() "
   ]
  },
  {
   "cell_type": "code",
   "execution_count": 46,
   "metadata": {},
   "outputs": [],
   "source": [
    "def search(table, key):\n",
    "    hash_key = key % 23\n",
    "    if key in table[hash_key]:\n",
    "        print(key,\"Present in hash key -\",hash_key)\n",
    "    else:\n",
    "        print(\"False\")\n",
    "    "
   ]
  },
  {
   "cell_type": "markdown",
   "metadata": {},
   "source": [
    "# Driver Code"
   ]
  },
  {
   "cell_type": "code",
   "execution_count": 51,
   "metadata": {},
   "outputs": [
    {
     "name": "stdout",
     "output_type": "stream",
     "text": [
      "Enter the list of numbers : 4 23 5 7 89 65 14 33 77 55 66 10 35 47 6\n"
     ]
    }
   ],
   "source": [
    "list1 = [int(item) for item in input(\"Enter the list of numbers : \").split()] \n",
    "#Inserts the above list in the hash table\n",
    "for i in list1:\n",
    "    insert(HashTable,i)\n"
   ]
  },
  {
   "cell_type": "code",
   "execution_count": 54,
   "metadata": {},
   "outputs": [
    {
     "data": {
      "text/plain": [
       "[[23],\n",
       " [70, 47],\n",
       " [],\n",
       " [],\n",
       " [50, 4],\n",
       " [5],\n",
       " [6],\n",
       " [30, 7],\n",
       " [100, 77],\n",
       " [55],\n",
       " [33, 10],\n",
       " [80],\n",
       " [35],\n",
       " [],\n",
       " [60, 14],\n",
       " [],\n",
       " [],\n",
       " [40],\n",
       " [110],\n",
       " [65],\n",
       " [20, 89, 66],\n",
       " [90],\n",
       " []]"
      ]
     },
     "metadata": {},
     "output_type": "display_data"
    },
    {
     "name": "stdout",
     "output_type": "stream",
     "text": [
      "0 --> 23 \n",
      "1 --> 70 --> 47 \n",
      "2 \n",
      "3 \n",
      "4 --> 50 --> 4 \n",
      "5 --> 5 \n",
      "6 --> 6 \n",
      "7 --> 30 --> 7 \n",
      "8 --> 100 --> 77 \n",
      "9 --> 55 \n",
      "10 --> 33 --> 10 \n",
      "11 --> 80 \n",
      "12 --> 35 \n",
      "13 \n",
      "14 --> 60 --> 14 \n",
      "15 \n",
      "16 \n",
      "17 --> 40 \n",
      "18 --> 110 \n",
      "19 --> 65 \n",
      "20 --> 20 --> 89 --> 66 \n",
      "21 --> 90 \n",
      "22 \n",
      "[[23], [70, 47], [], [], [50, 4], [5], [6], [30, 7], [100, 77], [55], [33, 10], [80], [35], [], [60, 14], [], [], [40], [110], [65], [20, 89, 66], [90], []]\n"
     ]
    }
   ],
   "source": [
    "display(HashTable) #Displays as a vertical list\n",
    "display_hash(HashTable) #Displays more neatly like a hash table\n",
    "print(HashTable) #Displays as a horizontal list"
   ]
  },
  {
   "cell_type": "code",
   "execution_count": 56,
   "metadata": {},
   "outputs": [
    {
     "name": "stdout",
     "output_type": "stream",
     "text": [
      "False\n"
     ]
    }
   ],
   "source": [
    "search(HashTable,99)"
   ]
  },
  {
   "cell_type": "code",
   "execution_count": null,
   "metadata": {},
   "outputs": [],
   "source": []
  }
 ],
 "metadata": {
  "kernelspec": {
   "display_name": "Python 3",
   "language": "python",
   "name": "python3"
  },
  "language_info": {
   "codemirror_mode": {
    "name": "ipython",
    "version": 3
   },
   "file_extension": ".py",
   "mimetype": "text/x-python",
   "name": "python",
   "nbconvert_exporter": "python",
   "pygments_lexer": "ipython3",
   "version": "3.8.3"
  }
 },
 "nbformat": 4,
 "nbformat_minor": 4
}
